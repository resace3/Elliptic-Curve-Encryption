{
 "cells": [
  {
   "cell_type": "code",
   "execution_count": 36,
   "metadata": {},
   "outputs": [],
   "source": [
    "class Point(object):\n",
    "    def __init__(self, curve, x, y):\n",
    "        self.curve = curve \n",
    "        self.x = x\n",
    "        self.y = y\n",
    " \n",
    "        if not curve.testPoint(x,y):\n",
    "            raise Exception(\"The point %s is not on the given curve %s\" % (self, curve))\n",
    "    def __neg__(self):\n",
    "        return Point(self.curve, self.x, -self.y)\n",
    "    \n",
    "    def __str__(self):\n",
    "            return \"[[{}],[{}]]\".format(self.x, self.y)#\"The point ({}, {})\".format(self.x, self.y)\n",
    "    \n",
    "    def __add__(self, Q):\n",
    "        if isinstance(Q, Ideal):\n",
    "            return self\n",
    " \n",
    "        x_1, y_1, x_2, y_2 = self.x, self.y, Q.x, Q.y\n",
    " \n",
    "        if (x_1, y_1) == (x_2, y_2):\n",
    "            if y_1 == 0:\n",
    "                return Ideal(self.curve)\n",
    " \n",
    "         # slope of the tangent line\n",
    "            m = (3 * x_1 * x_1 + self.curve.a) / (2 * y_1)\n",
    "        else:\n",
    "             if x_1 == x_2:\n",
    "                 return Ideal(self.curve)\n",
    " \n",
    "         # slope of the secant line\n",
    "             m = (y_2 - y_1) / (x_2 - x_1)\n",
    " \n",
    "        x_3 = m*m - x_2 - x_1\n",
    "        y_3 = m*(x_3 - x_1) + y_1\n",
    " \n",
    "        return Point(self.curve, x_3, -y_3)\n",
    "        \n",
    "\n",
    "\n",
    "\n",
    "\n",
    "\n",
    "\n",
    "\n",
    "\n",
    "class EllipticCurve(object):\n",
    "    def __init__(self, a, b):\n",
    "      # assume we're already in the Weierstrass form\n",
    "        self.a = a\n",
    "        self.b = b\n",
    " \n",
    "        self.discriminant = -16 * (4 * a*a*a + 27 * b * b)\n",
    "        if not self.isSmooth():\n",
    "            raise Exception(\"The curve %s is not smooth!\" % self)\n",
    " \n",
    "    def isSmooth(self):\n",
    "        return self.discriminant != 0\n",
    " \n",
    "    def testPoint(self, x, y):\n",
    "        return True #y*y == x*x*x + self.a * x + self.b FIX THIS LATER\n",
    " \n",
    "    def __str__(self):\n",
    "        return 'y^2 = x^3 + %Gx + %G' % (self.a, self.b)\n",
    " \n",
    "    def __eq__(self, other):\n",
    "        return (self.a, self.b) == (other.a, other.b)\n",
    "    \n",
    "    def DiffieHelman(alicesecret,bobsecret,point):\n",
    "        secretnumber=alicesecret+bobsecret\n",
    "        secretpoint=multiple(point,secretnumber)\n",
    "        return(secretpoint)\n",
    "    \n",
    "    def __add__(self,Q):\n",
    "        return Q\n",
    "class Ideal(Point):\n",
    "    def __init__(self, curve):\n",
    "        self.curve = curve\n",
    "\n",
    "    def __str__(self):\n",
    "        return \"Ideal\"\n",
    "    def __neg__(self):\n",
    "        return self\n",
    "    def __add__(self,Q):\n",
    "        return Q\n",
    "\n",
    "C = EllipticCurve(a=-2,b=4)\n",
    "P = Point(C, 3, 5)\n",
    "Q = Point(C, .816, 1.706)\n",
    "\n",
    "\n",
    "\n",
    "\n",
    "\n",
    "def multiple(Y,x):\n",
    "        new_point=Y    \n",
    "        nothing=1    \n",
    "        while nothing<x:\n",
    "            #print(new_point)\n",
    "            new_point=new_point+new_point\n",
    "            nothing+=1\n",
    "        return new_point\n",
    "      \n",
    "\n",
    "\n",
    "thesharedpoint=EllipticCurve.DiffieHelman(2,2,P)\n",
    "\n",
    "\n",
    "\n",
    "\n"
   ]
  },
  {
   "cell_type": "code",
   "execution_count": 37,
   "metadata": {},
   "outputs": [
    {
     "name": "stdout",
     "output_type": "stream",
     "text": [
      "[[0.7096638232976743],[1.7140814432404323]]\n"
     ]
    }
   ],
   "source": [
    "thesharedpoint=EllipticCurve.DiffieHelman(2,2,P)\n",
    "print(thesharedpoint)"
   ]
  },
  {
   "cell_type": "code",
   "execution_count": 44,
   "metadata": {},
   "outputs": [
    {
     "name": "stdout",
     "output_type": "stream",
     "text": [
      "[14, 1, 7, 0, 10, 9, 6, 3, 12, 13, 5, 8, 15, 11, 2, 4]\n"
     ]
    }
   ],
   "source": [
    "import numpy as np\n",
    "def Remove(duplicate): \n",
    "    final_list = [] \n",
    "    for num in duplicate: \n",
    "        if num not in final_list: \n",
    "            final_list.append(num) \n",
    "    return final_list \n",
    "\n",
    "def convert_point_to_list(x_value):\n",
    "    x_value=x_value*10**16\n",
    "    x_value=int(x_value)\n",
    "    x_value=[int(d) for d in str(x_value)]\n",
    "    \n",
    "    x_value=np.array(x_value)\n",
    "    \n",
    "    mod_x_value=[]\n",
    "    for x in range(len(x_value)):\n",
    "            mod_x_value.append((x_value[x])%(len(list(x_value)))) \n",
    "    \n",
    "    list_mod_x_value=list(mod_x_value)\n",
    "    \n",
    "    list_mod_x_value=Remove(list_mod_x_value)\n",
    "    return list_mod_x_value\n",
    "converte10=convert_point_to_list(0.7096638232976743)    \n",
    "\n",
    "def add_missing(insertlist):\n",
    "    t=4\n",
    "    new_list=insertlist\n",
    "    for y in range(16):\n",
    "        if y not in insertlist:\n",
    "            t=(t+21)%(len(insertlist))\n",
    "            new_list.insert(insertlist[t], y) \n",
    "            \n",
    "            \n",
    "    return new_list\n",
    "\n",
    "def makes_list_for_encryption(ellipticpointx):\n",
    "    partial_list_of_x=convert_point_to_list(ellipticpointx)\n",
    "    full_list_of_x=add_missing(partial_list_of_x)\n",
    "    return full_list_of_x\n",
    "use_for_encryption=makes_list_for_encryption(7096638232976743)\n",
    "print(use_for_encryption)"
   ]
  },
  {
   "cell_type": "code",
   "execution_count": 45,
   "metadata": {},
   "outputs": [
    {
     "name": "stdout",
     "output_type": "stream",
     "text": [
      "[['1' '0' '1' '0' '1' '0' '1' '1' '0' '0' '0' '0' '1' '1' '0' '1']\n",
      " ['0' '0' '0' '0' '0' '1' '0' '1' '0' '0' '1' '1' '1' '1' '0' '0']\n",
      " ['0' '0' '1' '1' '1' '0' '1' '1' '1' '0' '1' '1' '1' '0' '1' '0']\n",
      " ['0' '1' '1' '0' '0' '0' '0' '1' '0' '1' '0' '0' '0' '0' '0' '1']\n",
      " ['0' '0' '0' '0' '1' '1' '1' '1' '1' '0' '0' '1' '0' '1' '1' '1']\n",
      " ['0' '1' '0' '1' '1' '1' '1' '1' '0' '1' '0' '0' '1' '0' '0' '0']\n",
      " ['0' '0' '1' '0' '0' '0' '1' '0' '0' '1' '0' '1' '0' '0' '1' '0']\n",
      " ['1' '0' '1' '0' '0' '0' '0' '0' '1' '0' '0' '0' '0' '0' '1' '0']\n",
      " ['0' '0' '0' '1' '1' '1' '1' '0' '1' '1' '1' '1' '1' '1' '0' '1']\n",
      " ['1' '0' '0' '1' '1' '0' '1' '1' '0' '0' '1' '1' '0' '1' '1' '1']\n",
      " ['1' '1' '1' '1' '0' '0' '0' '1' '1' '1' '1' '0' '1' '0' '1' '1']\n",
      " ['1' '0' '1' '0' '0' '1' '1' '1' '0' '1' '1' '0' '1' '0' '0' '0']]\n"
     ]
    }
   ],
   "source": [
    "import numpy as np\n",
    "import itertools\n",
    "def strings_of_binary_to_lists(binary):\n",
    "    for i in range(len(binary)):\n",
    "        binary[i]=list(binary[i])\n",
    "    return binary\n",
    "\n",
    "def listToBinary(lists):#part of convert string to binary\n",
    "    binaryList=[]\n",
    "    \n",
    "    for i in lists:\n",
    "        \n",
    "        new_list=list(bin(i))\n",
    "        binaryList.append(new_list[2:])\n",
    "        \n",
    "    return binaryList\n",
    "\n",
    "def convert_string_to_binary_list(input):\n",
    "    input=list(input)\n",
    "    \n",
    "    new=[]\n",
    "    for i in input:\n",
    "        new.append(ord(i))\n",
    "    binary_list=listToBinary(new)  \n",
    "    for i in range(len(binary_list)):\n",
    "        while len(binary_list[i])!=7:\n",
    "            \n",
    "            binary_list[i]= ['0']+binary_list[i]\n",
    "    return binary_list\n",
    "\n",
    "def makes_input_binary_list(inputstring):\n",
    "    binaryundivided=convert_string_to_binary_list(inputstring)\n",
    "    binarydivided=strings_of_binary_to_lists(binaryundivided)\n",
    "    \n",
    "    binarytogether=list(itertools.chain.from_iterable(binarydivided))\n",
    "    binarytogether=np.array(binarytogether)\n",
    "    if len(binarytogether)%16==0:\n",
    "        binarydivided1=np.reshape(binarytogether,(6,16))\n",
    "    else:\n",
    "        while len(binarytogether)%16!=0:\n",
    "            binarytogether=list(binarytogether)\n",
    "            binarytogether.append('0')\n",
    "        binarytogether=np.array(binarytogether)\n",
    "        binarydivided1=np.reshape(binarytogether,(len(binarytogether)//16,16))\n",
    "    return binarydivided1\n",
    "DRPcolloquim=makes_input_binary_list('UC Santa Cruz DRP Colloquim')\n",
    "print(DRPcolloquim)"
   ]
  },
  {
   "cell_type": "code",
   "execution_count": 46,
   "metadata": {},
   "outputs": [
    {
     "name": "stdout",
     "output_type": "stream",
     "text": [
      "[['0', '0', '1', '1', '0', '0', '1', '0', '1', '1', '0', '0', '1', '0', '1', '1'], ['0', '0', '1', '0', '1', '0', '0', '0', '1', '1', '1', '0', '0', '1', '0', '0'], ['1', '0', '1', '0', '1', '0', '1', '1', '1', '0', '0', '1', '0', '1', '1', '1'], ['0', '1', '1', '0', '0', '1', '0', '0', '0', '0', '0', '0', '1', '0', '1', '0'], ['1', '0', '1', '0', '0', '0', '1', '0', '0', '1', '1', '1', '1', '1', '0', '1'], ['0', '1', '1', '0', '0', '1', '1', '1', '1', '0', '1', '0', '0', '0', '0', '1'], ['1', '0', '0', '0', '0', '1', '1', '0', '0', '0', '0', '0', '0', '1', '1', '0'], ['1', '0', '0', '1', '0', '0', '0', '0', '0', '0', '0', '1', '0', '0', '1', '0'], ['0', '0', '0', '0', '1', '1', '1', '1', '1', '1', '1', '1', '1', '1', '0', '1'], ['1', '0', '1', '1', '1', '0', '1', '1', '0', '1', '0', '0', '1', '1', '0', '1'], ['1', '1', '1', '1', '1', '1', '0', '1', '1', '0', '0', '1', '1', '0', '1', '0'], ['0', '0', '1', '1', '1', '1', '1', '0', '1', '0', '1', '0', '0', '0', '1', '0']]\n"
     ]
    }
   ],
   "source": [
    "def mix16(list_of_sixteen,encryption):\n",
    "    new_list=list(np.zeros((len(list_of_sixteen), 16)))\n",
    "    for z in range(len(new_list)):\n",
    "        new_list[z]=list(new_list[z])\n",
    "    \n",
    "    for x in range(len(list_of_sixteen)):\n",
    "        i=0\n",
    "        for y in encryption:\n",
    "            #print(new_list)\n",
    "            new_list[x][i]=list_of_sixteen[x][y]\n",
    "            i+=1\n",
    "            \n",
    "    print(new_list)\n",
    "    return(new_list)\n",
    "mixed16=mix16(DRPcolloquim,use_for_encryption)"
   ]
  },
  {
   "cell_type": "code",
   "execution_count": 47,
   "metadata": {},
   "outputs": [
    {
     "name": "stdout",
     "output_type": "stream",
     "text": [
      "[['0', '0', '0', '1', '1', '0', '1', '1', '0', '0', '1', '1', '0', '0', '1', '1'], ['0', '0', '0', '1', '0', '1', '0', '0', '1', '1', '0', '1', '0', '0', '0', '1'], ['1', '0', '1', '1', '0', '1', '1', '1', '1', '0', '1', '0', '1', '0', '0', '1'], ['0', '1', '0', '1', '1', '0', '0', '1', '0', '0', '0', '0', '0', '1', '0', '0'], ['0', '0', '1', '1', '1', '0', '1', '0', '1', '1', '1', '1', '1', '0', '0', '0'], ['1', '1', '0', '1', '0', '0', '1', '0', '0', '1', '1', '0', '0', '1', '0', '1'], ['0', '0', '1', '0', '0', '0', '1', '1', '1', '0', '0', '0', '0', '1', '0', '0'], ['0', '0', '1', '0', '0', '0', '0', '1', '0', '0', '0', '0', '1', '0', '1', '0'], ['1', '0', '0', '0', '1', '1', '1', '0', '1', '1', '1', '1', '1', '1', '0', '1'], ['1', '0', '1', '1', '1', '1', '1', '0', '1', '0', '1', '1', '0', '0', '1', '0'], ['1', '1', '1', '1', '1', '1', '0', '1', '0', '0', '0', '0', '1', '1', '1', '1'], ['0', '0', '0', '1', '0', '1', '1', '1', '0', '1', '0', '0', '0', '1', '1', '1']]\n"
     ]
    }
   ],
   "source": [
    "def unmix16(list_of_sixteen,encryption):\n",
    "    new_list=list(np.zeros((len(list_of_sixteen), 16)))\n",
    "    for z in range(len(new_list)):\n",
    "        new_list[z]=list(new_list[z])\n",
    "    \n",
    "    for x in range(len(list_of_sixteen)):\n",
    "        i=0\n",
    "        for y in encryption:\n",
    "            #print(new_list)\n",
    "            new_list[x][y]=list_of_sixteen[x][i]\n",
    "            i+=1\n",
    "            \n",
    "    #print(new_list)\n",
    "    return(new_list)\n",
    "unmixed16=unmix16(DRPcolloquim,use_for_encryption)\n",
    "print(unmixed16)"
   ]
  },
  {
   "cell_type": "code",
   "execution_count": 48,
   "metadata": {},
   "outputs": [
    {
     "name": "stdout",
     "output_type": "stream",
     "text": [
      "UC Santa Cruz DRP Colloquim\n"
     ]
    },
    {
     "data": {
      "text/plain": [
       "'UC Santa Cruz DRP Colloquim'"
      ]
     },
     "execution_count": 48,
     "metadata": {},
     "output_type": "execute_result"
    }
   ],
   "source": [
    "def make_unmixed_back_to_letters(unmixed):\n",
    "    unmixed=list(itertools.chain.from_iterable(unmixed))\n",
    "    unmixed_real=unmixed[:len(unmixed)-len(unmixed)%7]\n",
    "    unmixed_extra=unmixed[len(unmixed)-len(unmixed)%7:]\n",
    "    \n",
    "    unmixed_real=np.array(unmixed_real)\n",
    "    unmixed_realer=np.reshape(unmixed_real,(len(unmixed)//7,7))\n",
    "    \n",
    "    unmixed_realer=list(unmixed_realer)\n",
    "    for i in range(len(unmixed_realer)):\n",
    "        unmixed_realer[i]=list(unmixed_realer[i])\n",
    "    for i in range(len(unmixed_realer)):\n",
    "        unmixed_realer[i]=''.join(unmixed_realer[i])\n",
    "    \n",
    "    for x in range(len(unmixed_realer)):\n",
    "        unmixed_realer[x]=int(unmixed_realer[x], 2)\n",
    "\n",
    "    \n",
    "    for y in range(len(unmixed_realer)):\n",
    "        \n",
    "        unmixed_realer[y]=chr(unmixed_realer[y])\n",
    "        \n",
    "    unmixed_realer=''.join(unmixed_realer)    \n",
    "    print(unmixed_realer)\n",
    "    return unmixed_realer\n",
    "make_unmixed_back_to_letters(DRPcolloquim)\n"
   ]
  },
  {
   "cell_type": "code",
   "execution_count": null,
   "metadata": {},
   "outputs": [],
   "source": []
  },
  {
   "cell_type": "code",
   "execution_count": 14,
   "metadata": {},
   "outputs": [
    {
     "data": {
      "text/plain": [
       "[['0', '1', '0', '0', '0', '0', '0']]"
      ]
     },
     "execution_count": 14,
     "metadata": {},
     "output_type": "execute_result"
    }
   ],
   "source": [
    "def listToBinary(lists):#part of convert string to binary\n",
    "    binaryList=[]\n",
    "    \n",
    "    for i in lists:\n",
    "        \n",
    "        new_list=list(bin(i))\n",
    "        binaryList.append(new_list[2:])\n",
    "        \n",
    "    return binaryList\n",
    "\n",
    "def convert_string_to_binary_list(input):\n",
    "    input=list(input)\n",
    "    \n",
    "    new=[]\n",
    "    for i in input:\n",
    "        new.append(ord(i))\n",
    "        \n",
    "\n",
    "            \n",
    "    binary_list=listToBinary(new)  \n",
    "    for i in range(len(binary_list)):\n",
    "        while len(binary_list[i])!=7:\n",
    "            \n",
    "            binary_list[i]= ['0']+binary_list[i]\n",
    "    return binary_list\n",
    "\n",
    "convert_string_to_binary_list(' ')\n",
    "\n"
   ]
  },
  {
   "cell_type": "code",
   "execution_count": 8,
   "metadata": {},
   "outputs": [],
   "source": [
    "import numpy as np\n",
    "def Remove(duplicate): \n",
    "    final_list = [] \n",
    "    for num in duplicate: \n",
    "        if num not in final_list: \n",
    "            final_list.append(num) \n",
    "    return final_list \n",
    "\n",
    "def convert_point_to_list(x_value):\n",
    "    x_value=x_value*10**16\n",
    "    x_value=int(x_value)\n",
    "    x_value=[int(d) for d in str(x_value)]\n",
    "    \n",
    "    x_value=np.array(x_value)\n",
    "    \n",
    "    mod_x_value=[]\n",
    "    for x in range(len(x_value)):\n",
    "            mod_x_value.append((x_value[x])%(len(list(x_value)))) \n",
    "    \n",
    "    list_mod_x_value=list(mod_x_value)\n",
    "    \n",
    "    list_mod_x_value=Remove(list_mod_x_value)\n",
    "    return list_mod_x_value\n",
    "converte10=convert_point_to_list(0.7096638232976743)    "
   ]
  },
  {
   "cell_type": "code",
   "execution_count": 9,
   "metadata": {},
   "outputs": [
    {
     "data": {
      "text/plain": [
       "[14, 1, 7, 0, 10, 9, 6, 3, 12, 13, 5, 8, 15, 11, 2, 4]"
      ]
     },
     "execution_count": 9,
     "metadata": {},
     "output_type": "execute_result"
    }
   ],
   "source": [
    "def add_missing(insertlist):\n",
    "    t=4\n",
    "    new_list=insertlist\n",
    "    for y in range(16):\n",
    "        if y not in insertlist:\n",
    "            t=(t+21)%(len(insertlist))\n",
    "            new_list.insert(insertlist[t], y) \n",
    "            \n",
    "            \n",
    "    return new_list\n",
    "add_missing(converte10)\n",
    "\n",
    "\n",
    "\n"
   ]
  },
  {
   "cell_type": "code",
   "execution_count": 10,
   "metadata": {},
   "outputs": [],
   "source": [
    "\n",
    "def strings_of_binary_to_lists(binary):\n",
    "    for i in range(len(binary)):\n",
    "        binary[i]=list(binary[i])\n",
    "    return binary\n",
    "\n",
    "\n",
    "\n",
    "\n",
    "\n"
   ]
  },
  {
   "cell_type": "code",
   "execution_count": null,
   "metadata": {},
   "outputs": [],
   "source": []
  },
  {
   "cell_type": "code",
   "execution_count": null,
   "metadata": {},
   "outputs": [],
   "source": []
  },
  {
   "cell_type": "code",
   "execution_count": null,
   "metadata": {},
   "outputs": [],
   "source": []
  },
  {
   "cell_type": "code",
   "execution_count": null,
   "metadata": {},
   "outputs": [],
   "source": []
  }
 ],
 "metadata": {
  "kernelspec": {
   "display_name": "Python 3",
   "language": "python",
   "name": "python3"
  },
  "language_info": {
   "codemirror_mode": {
    "name": "ipython",
    "version": 3
   },
   "file_extension": ".py",
   "mimetype": "text/x-python",
   "name": "python",
   "nbconvert_exporter": "python",
   "pygments_lexer": "ipython3",
   "version": "3.7.0"
  }
 },
 "nbformat": 4,
 "nbformat_minor": 2
}
